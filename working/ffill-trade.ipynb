{
 "cells": [
  {
   "cell_type": "code",
   "execution_count": 4,
   "metadata": {},
   "outputs": [],
   "source": [
    "import glob\n",
    "import pyarrow\n",
    "import numpy as np\n",
    "import pandas as pd\n",
    "from tqdm.notebook import tqdm\n",
    "BASE = '../input/optiver-realized-volatility-prediction'"
   ]
  },
  {
   "cell_type": "code",
   "execution_count": 5,
   "metadata": {},
   "outputs": [],
   "source": [
    "def ffill(data_df): \n",
    "    data_df=data_df.set_index(['time_id', 'seconds_in_bucket'])\n",
    "    data_df = data_df.reindex(pd.MultiIndex.from_product([data_df.index.levels[0], np.arange(0,600)], names = ['time_id', 'seconds_in_bucket']), method=None)\n",
    "    return data_df.reset_index()"
   ]
  },
  {
   "cell_type": "code",
   "execution_count": null,
   "metadata": {},
   "outputs": [
    {
     "data": {
      "application/vnd.jupyter.widget-view+json": {
       "model_id": "79d7a50dfb464a14bf0b8a29981b41f9",
       "version_major": 2,
       "version_minor": 0
      },
      "text/plain": [
       "HBox(children=(FloatProgress(value=0.0, max=112.0), HTML(value='')))"
      ]
     },
     "metadata": {},
     "output_type": "display_data"
    }
   ],
   "source": [
    "trade_files = glob.glob(f'{BASE}/trade_train.parquet/stock_id=*/*.parquet')\n",
    "\n",
    "for file in tqdm(trade_files):\n",
    "    trade_df = pd.read_parquet(file)\n",
    "    ffill_df = ffill(trade_df)\n",
    "    ffill_df[\"size\"] = ffill_df[\"size\"].fillna(0).astype(int)\n",
    "    ffill_df[\"order_count\"] = ffill_df[\"order_count\"].fillna(0).astype(int)\n",
    "    ffill_df['price'] = ffill_df.groupby('time_id')['price'].transform(lambda v: v.ffill())\n",
    "    ffill_df['price'] = ffill_df.groupby('time_id')['price'].transform(lambda v: v.bfill())\n",
    "    file_name = f'../input/trade_ffill/trade_train.parquet/' + file.split('/')[-2]\n",
    "    save_df = pyarrow.Table.from_pandas(ffill_df)\n",
    "    pyarrow.parquet.write_to_dataset(save_df, root_path=file_name)"
   ]
  },
  {
   "cell_type": "code",
   "execution_count": null,
   "metadata": {},
   "outputs": [],
   "source": []
  }
 ],
 "metadata": {
  "kernelspec": {
   "display_name": "Python 3",
   "language": "python",
   "name": "python3"
  },
  "language_info": {
   "codemirror_mode": {
    "name": "ipython",
    "version": 3
   },
   "file_extension": ".py",
   "mimetype": "text/x-python",
   "name": "python",
   "nbconvert_exporter": "python",
   "pygments_lexer": "ipython3",
   "version": "3.8.3"
  }
 },
 "nbformat": 4,
 "nbformat_minor": 4
}
