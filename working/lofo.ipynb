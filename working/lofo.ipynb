{
 "cells": [
  {
   "cell_type": "code",
   "execution_count": 3,
   "metadata": {},
   "outputs": [],
   "source": [
    "SEED=42\n",
    "\n",
    "import numpy as np\n",
    "import pandas as pd\n",
    "from sklearn.model_selection import KFold, GroupKFold\n",
    "# from lofo import LOFOImportance, Dataset, plot_importance\n",
    "import lightgbm as lgb\n",
    "from tqdm.notebook import tqdm\n",
    "import itertools\n",
    "%matplotlib inline\n",
    "pd.set_option('max_columns', 300)\n",
    "pd.set_option('max_rows', 300)\n",
    "\n",
    "# Function to get group stats for the stock_id and time_id\n",
    "def get_time_stock(df):\n",
    "    # Get realized volatility columns\n",
    "    vol_cols = ['log_return1_realized_volatility', 'log_return2_realized_volatility', 'log_return1_realized_volatility_450', 'log_return2_realized_volatility_450', \n",
    "                'log_return1_realized_volatility_300', 'log_return2_realized_volatility_300', 'log_return1_realized_volatility_150', 'log_return2_realized_volatility_150', \n",
    "                'trade_log_return_realized_volatility', 'trade_log_return_realized_volatility_450', 'trade_log_return_realized_volatility_300', 'trade_log_return_realized_volatility_150']\n",
    "\n",
    "    # Group by the stock id\n",
    "    df_stock_id = df.groupby(['stock_id'])[vol_cols].agg(['mean', 'std', 'max', 'min', ]).reset_index()\n",
    "    # Rename columns joining suffix\n",
    "    df_stock_id.columns = ['_'.join(col) for col in df_stock_id.columns]\n",
    "    df_stock_id = df_stock_id.add_suffix('_' + 'stock')\n",
    "\n",
    "    # Group by the time id\n",
    "    df_time_id = df.groupby(['time_id'])[vol_cols].agg(['mean', 'std', 'max', 'min', ]).reset_index()\n",
    "    # Rename columns joining suffix\n",
    "    df_time_id.columns = ['_'.join(col) for col in df_time_id.columns]\n",
    "    df_time_id = df_time_id.add_suffix('_' + 'time')\n",
    "    \n",
    "    # Merge with original dataframe\n",
    "    df = df.merge(df_stock_id, how = 'left', left_on = ['stock_id'], right_on = ['stock_id__stock'])\n",
    "    df = df.merge(df_time_id, how = 'left', left_on = ['time_id'], right_on = ['time_id__time'])\n",
    "    df.drop(['stock_id__stock', 'time_id__time'], axis = 1, inplace = True)\n",
    "    return df\n",
    "\n",
    "# Function to calculate the root mean squared percentage error\n",
    "def rmspe(y_true, y_pred):\n",
    "    return np.sqrt(np.mean(np.square((y_true - y_pred) / y_true)))"
   ]
  },
  {
   "cell_type": "code",
   "execution_count": 4,
   "metadata": {},
   "outputs": [],
   "source": [
    "train = pd.read_csv(\"../input/processed-book-ffill/processed_train.csv\")\n",
    "test = pd.read_csv(\"../input/processed-book-ffill/processed_test.csv\")\n",
    "# Get group stats of time_id and stock_id\n",
    "train = get_time_stock(train)\n",
    "test = get_time_stock(test)"
   ]
  },
  {
   "cell_type": "markdown",
   "metadata": {},
   "source": [
    "# Get base score"
   ]
  },
  {
   "cell_type": "code",
   "execution_count": 6,
   "metadata": {},
   "outputs": [],
   "source": [
    "params = {\n",
    "    'random_state': SEED,\n",
    "    'objective': 'rmse',  \n",
    "    'boosting_type': 'gbdt',\n",
    "#     'num_leaves': 100,\n",
    "#     'learning_rate': 0.1,\n",
    "#     'colsample_bytree': 0.8,\n",
    "#     'subsample': 0.8,\n",
    "#     'n_estimators': 1000,\n",
    "    'min_child_samples': int(0.01*train.shape[0])\n",
    "}\n",
    "feature_cols = [c for c in train.columns if c not in ['row_id', 'target', 'time_id', 'stock_id', 'target']]\n",
    "kfold = GroupKFold(n_splits=5)"
   ]
  },
  {
   "cell_type": "code",
   "execution_count": 7,
   "metadata": {},
   "outputs": [
    {
     "name": "stdout",
     "output_type": "stream",
     "text": [
      "0\n",
      "Training until validation scores don't improve for 100 rounds\n",
      "[100]\tvalid_0's rmse: 0.000501884\n",
      "Did not meet early stopping. Best iteration is:\n",
      "[100]\tvalid_0's rmse: 0.000501884\n",
      "1\n",
      "Training until validation scores don't improve for 100 rounds\n",
      "[100]\tvalid_0's rmse: 0.000516356\n",
      "Did not meet early stopping. Best iteration is:\n",
      "[87]\tvalid_0's rmse: 0.000515758\n",
      "2\n",
      "Training until validation scores don't improve for 100 rounds\n",
      "[100]\tvalid_0's rmse: 0.000480284\n",
      "Did not meet early stopping. Best iteration is:\n",
      "[99]\tvalid_0's rmse: 0.000480082\n",
      "3\n",
      "Training until validation scores don't improve for 100 rounds\n",
      "[100]\tvalid_0's rmse: 0.000481976\n",
      "Did not meet early stopping. Best iteration is:\n",
      "[99]\tvalid_0's rmse: 0.000481747\n",
      "4\n",
      "Training until validation scores don't improve for 100 rounds\n",
      "[100]\tvalid_0's rmse: 0.000478685\n",
      "Did not meet early stopping. Best iteration is:\n",
      "[87]\tvalid_0's rmse: 0.000478556\n"
     ]
    },
    {
     "data": {
      "text/plain": [
       "array([0.23146638, 0.24061646, 0.22342369, 0.22313443, 0.21904546],\n",
       "      dtype=float32)"
      ]
     },
     "execution_count": 7,
     "metadata": {},
     "output_type": "execute_result"
    }
   ],
   "source": [
    "base_cv_score = np.zeros(5, dtype=np.float32)\n",
    "for fold, (trn_ind, val_ind) in enumerate(kfold.split(train, groups=train.time_id)):\n",
    "    print(fold)\n",
    "    x_train, x_val = train.loc[trn_ind, feature_cols], train.loc[val_ind, feature_cols]\n",
    "    y_train, y_val = train.loc[trn_ind, 'target'], train.loc[val_ind, 'target']\n",
    "    # Root mean squared percentage error weights\n",
    "    train_weights = 1 / np.square(y_train)\n",
    "    val_weights = 1 / np.square(y_val)\n",
    "    \n",
    "    # Fit with sklearn API\n",
    "    model = lgb.LGBMRegressor(**params)\n",
    "    model.fit(x_train, \n",
    "              y_train, \n",
    "              sample_weight=train_weights,\n",
    "              eval_set=[(x_val, y_val)],\n",
    "              eval_sample_weight=[val_weights],\n",
    "              eval_metric='rmse',\n",
    "              early_stopping_rounds=100,\n",
    "              verbose=100)\n",
    "    \n",
    "    base_cv_score[fold] = rmspe(y_val, model.predict(x_val))\n",
    "base_cv_score"
   ]
  },
  {
   "cell_type": "markdown",
   "metadata": {},
   "source": [
    "# LOFO"
   ]
  },
  {
   "cell_type": "code",
   "execution_count": 8,
   "metadata": {},
   "outputs": [
    {
     "data": {
      "text/plain": [
       "(240, 240)"
      ]
     },
     "execution_count": 8,
     "metadata": {},
     "output_type": "execute_result"
    }
   ],
   "source": [
    "feature_groups = {\n",
    "    'wap1': [c for c in feature_cols if c.split('_')[0]=='wap1'],\n",
    "    'wap2': [c for c in feature_cols if c.split('_')[0]=='wap2'],\n",
    "    'log_return1': [c for c in feature_cols if c.split('_')[0:2]==['log', 'return1'] and c.split('_')[-1] not in ['time', 'stock']],\n",
    "    'log_return2': [c for c in feature_cols if c.split('_')[0:2]==['log', 'return2'] and c.split('_')[-1] not in ['time', 'stock']],\n",
    "    'wap_balance': [c for c in feature_cols if c.split('_')[0:2]==['wap', 'balance']],\n",
    "    'price_spread': [c for c in feature_cols if c.split('_')[0:2]==['price', 'spread']],\n",
    "    'bid_spread': [c for c in feature_cols if c.split('_')[0:2]==['bid', 'spread']],\n",
    "    'ask_spread': [c for c in feature_cols if c.split('_')[0:2]==['ask', 'spread']],\n",
    "    'total_volume': [c for c in feature_cols if c.split('_')[0:2]==['total', 'volume']],\n",
    "    'volume_imbalance': [c for c in feature_cols if c.split('_')[0:2]==['volume', 'imbalance']],\n",
    "    'trade_log_return': [c for c in feature_cols if c.split('_')[0:3]==['trade', 'log', 'return'] and c.split('_')[-1] not in ['time', 'stock']],\n",
    "    'trade_seconds_in_bucket': [c for c in feature_cols if c.split('_')[0:4]==['trade', 'seconds', 'in', 'bucket']],    \n",
    "    'trade_size': [c for c in feature_cols if c.split('_')[0:2]==['trade', 'size']],\n",
    "    'trade_order_count': [c for c in feature_cols if c.split('_')[0:3]==['trade', 'order', 'count']],\n",
    "    'timeagg': [c for c in feature_cols if c.split('_')[-1]=='time'],\n",
    "    'stockagg': [c for c in feature_cols if c.split('_')[-1]=='stock'],\n",
    "}\n",
    "grouped_features = list(itertools.chain.from_iterable(feature_groups.values()))\n",
    "len(grouped_features), len(set(grouped_features))"
   ]
  },
  {
   "cell_type": "code",
   "execution_count": 9,
   "metadata": {},
   "outputs": [
    {
     "data": {
      "text/plain": [
       "{}"
      ]
     },
     "execution_count": 9,
     "metadata": {},
     "output_type": "execute_result"
    }
   ],
   "source": [
    "not_grouped_features = {}\n",
    "for fea in feature_cols:\n",
    "    if fea not in set(grouped_features):\n",
    "        not_grouped_features[fea] = [fea]\n",
    "not_grouped_features"
   ]
  },
  {
   "cell_type": "code",
   "execution_count": 10,
   "metadata": {},
   "outputs": [],
   "source": [
    "feature_groups = {**feature_groups, **not_grouped_features}"
   ]
  },
  {
   "cell_type": "code",
   "execution_count": 11,
   "metadata": {},
   "outputs": [
    {
     "data": {
      "application/vnd.jupyter.widget-view+json": {
       "model_id": "f16f3c9319e1435d8e3c7383614122fc",
       "version_major": 2,
       "version_minor": 0
      },
      "text/plain": [
       "HBox(children=(FloatProgress(value=0.0, max=16.0), HTML(value='')))"
      ]
     },
     "metadata": {},
     "output_type": "display_data"
    },
    {
     "name": "stdout",
     "output_type": "stream",
     "text": [
      "\n"
     ]
    }
   ],
   "source": [
    "lofo_cv_scores = np.zeros((len(feature_groups), 5), dtype=np.float32)\n",
    "for i, group_to_drop in enumerate(tqdm(feature_groups.keys())):\n",
    "    lofo_cols = [c for c in feature_cols if c not in feature_groups[group_to_drop]]\n",
    "    for fold, (trn_ind, val_ind) in enumerate(kfold.split(train, groups=train.time_id)):\n",
    "        x_train, x_val = train.loc[trn_ind, lofo_cols], train.loc[val_ind, lofo_cols]\n",
    "        y_train, y_val = train.loc[trn_ind, 'target'], train.loc[val_ind, 'target']\n",
    "\n",
    "        # Root mean squared percentage error weights\n",
    "        train_weights = 1 / np.square(y_train)\n",
    "        val_weights = 1 / np.square(y_val)\n",
    "\n",
    "        # Fit with sklearn API\n",
    "        model = lgb.LGBMRegressor(**params)\n",
    "        model.fit(x_train, \n",
    "                  y_train, \n",
    "                  sample_weight=train_weights,\n",
    "                  eval_set=[(x_val, y_val)],\n",
    "                  eval_sample_weight=[val_weights],\n",
    "                  eval_metric='rmse',\n",
    "                  early_stopping_rounds=100,\n",
    "                  verbose=False)\n",
    "        lofo_cv_scores[i, fold] = rmspe(y_val, model.predict(x_val))"
   ]
  },
  {
   "cell_type": "code",
   "execution_count": 12,
   "metadata": {},
   "outputs": [],
   "source": [
    "# https://github.com/aerdem4/lofo-importance/blob/efbb00bf47ae329aa1fd98ec8a46aaca6841b21a/lofo/utils.py#L5\n",
    "def lofo_to_df(lofo_scores, feature_list):\n",
    "    importance_df = pd.DataFrame()\n",
    "    importance_df[\"feature\"] = feature_list\n",
    "    importance_df[\"importance_mean\"] = lofo_scores.mean(axis=1)\n",
    "    importance_df[\"importance_std\"] = lofo_scores.std(axis=1)\n",
    "\n",
    "    for val_score in range(lofo_scores.shape[1]):\n",
    "        importance_df[\"val_imp_{}\".format(val_score)] = lofo_scores[:, val_score]\n",
    "\n",
    "    return importance_df.sort_values(\"importance_mean\", ascending=False)\n",
    "\n",
    "# https://github.com/aerdem4/lofo-importance/blob/master/lofo/plotting.py\n",
    "def plot_importance(importance_df, figsize=(8, 8), kind=\"default\"):\n",
    "    \"\"\"Plot feature importance\n",
    "    Parameters\n",
    "    ----------\n",
    "    importance_df : pandas dataframe\n",
    "        Output dataframe from LOFO/FLOFO get_importance\n",
    "    kind : string\n",
    "        plot type can be default or box\n",
    "    figsize : tuple\n",
    "    \"\"\"\n",
    "    importance_df = importance_df.copy()\n",
    "    importance_df[\"color\"] = (importance_df[\"importance_mean\"] > 0).map({True: 'g', False: 'r'})\n",
    "    importance_df.sort_values(\"importance_mean\", inplace=True)\n",
    "\n",
    "    available_kinds = {\"default\", \"box\"}\n",
    "    if kind not in available_kinds:\n",
    "        warnings.warn(\"{kind} not in {ak}. Setting to default\".format(kind=kind, ak=available_kinds))\n",
    "\n",
    "    if kind == \"default\":\n",
    "        importance_df.plot(x=\"feature\", y=\"importance_mean\", xerr=\"importance_std\",\n",
    "                           kind='barh', color=importance_df[\"color\"], figsize=figsize)\n",
    "    elif kind == \"box\":\n",
    "        lofo_score_cols = [col for col in importance_df.columns if col.startswith(\"val_imp\")]\n",
    "        features = importance_df[\"feature\"].values.tolist()\n",
    "        importance_df.set_index(\"feature\")[lofo_score_cols].T.boxplot(column=features, vert=False, figsize=figsize)"
   ]
  },
  {
   "cell_type": "code",
   "execution_count": 13,
   "metadata": {},
   "outputs": [
    {
     "data": {
      "image/png": "[encoded data removed]",
      "text/plain": [
       "<Figure size 576x576 with 1 Axes>"
      ]
     },
     "metadata": {
      "needs_background": "light"
     },
     "output_type": "display_data"
    }
   ],
   "source": [
    "lofo_cv_scores_normalized = np.array([lofo_cv_score-base_cv_score for lofo_cv_score in lofo_cv_scores])\n",
    "lofo_df = lofo_to_df(lofo_cv_scores_normalized, list(feature_groups.keys()))\n",
    "lofo_df.to_csv(\"lofo_df.csv\", index=False)\n",
    "plot_importance(lofo_df)"
   ]
  },
  {
   "cell_type": "code",
   "execution_count": null,
   "metadata": {},
   "outputs": [],
   "source": []
  }
 ],
 "metadata": {
  "kernelspec": {
   "display_name": "Python 3",
   "language": "python",
   "name": "python3"
  },
  "language_info": {
   "codemirror_mode": {
    "name": "ipython",
    "version": 3
   },
   "file_extension": ".py",
   "mimetype": "text/x-python",
   "name": "python",
   "nbconvert_exporter": "python",
   "pygments_lexer": "ipython3",
   "version": "3.8.3"
  }
 },
 "nbformat": 4,
 "nbformat_minor": 5
}
