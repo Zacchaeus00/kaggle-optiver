{
 "cells": [
  {
   "cell_type": "code",
   "execution_count": 2,
   "id": "e27609b9-646d-4ba8-a4f5-8e346a327c6e",
   "metadata": {},
   "outputs": [],
   "source": [
    "\n",
    "import pandas as pd\n",
    "from sklearn.model_selection import KFold\n",
    "from lofo import LOFOImportance, Dataset, plot_importance\n",
    "%matplotlib inline\n",
    "# Function to read our base train and test set\n",
    "def read_train_test():\n",
    "    train = pd.read_csv('../input/optiver-realized-volatility-prediction/train.csv')\n",
    "    test = pd.read_csv('../input/optiver-realized-volatility-prediction/test.csv')\n",
    "    # Create a key to merge with book and trade data\n",
    "    train['row_id'] = train['stock_id'].astype(str) + '-' + train['time_id'].astype(str)\n",
    "    test['row_id'] = test['stock_id'].astype(str) + '-' + test['time_id'].astype(str)\n",
    "    print(f'Our training set has {train.shape[0]} rows')\n",
    "    return train, test"
   ]
  },
  {
   "cell_type": "code",
   "execution_count": null,
   "id": "0cc968c4-87a3-4e81-abbe-41c11a02ddb3",
   "metadata": {},
   "outputs": [],
   "source": [
    "train, _ = read_train_test()\n",
    "df_book = pd.read_csv('../input/processed-book-ffill/df_book.csv')\n",
    "print(df_book.shape)\n",
    "df_trade = pd.read_csv('../input/processed-book-ffill/df_trade.csv')\n",
    "print(df_trade.shape)\n",
    "train_ = df_book.merge(df_trade, on = ['row_id'], how = 'left')\n",
    "train = train.merge(train_, on = ['row_id'], how = 'left')\n",
    "\n",
    "# Get group stats of time_id and stock_id\n",
    "train = get_time_stock(train)\n",
    "train['logtarget'] = train['target'].apply(np.log)\n",
    "train"
   ]
  }
 ],
 "metadata": {
  "kernelspec": {
   "display_name": "Python 3",
   "language": "python",
   "name": "python3"
  },
  "language_info": {
   "codemirror_mode": {
    "name": "ipython",
    "version": 3
   },
   "file_extension": ".py",
   "mimetype": "text/x-python",
   "name": "python",
   "nbconvert_exporter": "python",
   "pygments_lexer": "ipython3",
   "version": "3.8.8"
  }
 },
 "nbformat": 4,
 "nbformat_minor": 5
}
