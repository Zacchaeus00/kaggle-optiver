{
 "cells": [
  {
   "cell_type": "code",
   "execution_count": 3,
   "metadata": {},
   "outputs": [],
   "source": [
    "import os\n",
    "import pandas as pd\n",
    "import numpy as np\n",
    "from tqdm import tqdm \n",
    "from glob import glob\n",
    "from imp import reload\n",
    "import warnings\n",
    "from utils import util\n",
    "reload(util)\n",
    "warnings.filterwarnings('ignore')"
   ]
  },
  {
   "cell_type": "code",
   "execution_count": 4,
   "metadata": {},
   "outputs": [],
   "source": [
    "path_lst = glob('../data/book_train.parquet/*')\n",
    "stock_lst = [os.path.basename(path).split('=')[-1] for path in path_lst]"
   ]
  },
  {
   "cell_type": "code",
   "execution_count": 5,
   "metadata": {},
   "outputs": [
    {
     "name": "stderr",
     "output_type": "stream",
     "text": [
      "\r",
      "  0%|          | 0/112 [00:00<?, ?it/s]"
     ]
    },
    {
     "name": "stdout",
     "output_type": "stream",
     "text": [
      "isBS B\n",
      "isBS B\n",
      "isBS B\n",
      "isBS B\n",
      "isBS B\n",
      "isBS B\n",
      "isBS B\n",
      "isBS S\n",
      "isBS B\n",
      "isBS S\n",
      "isBS S\n",
      "isBS S\n",
      "isBS S\n",
      "isBS S\n",
      "isBS_big supB\n",
      "isBS S\n",
      "isBS_big supB\n",
      "isBS S\n",
      "isBS_big supS\n",
      "isBS_big supB\n",
      "isBS_big supB\n",
      "isBS_big supB\n",
      "isBS_big supB\n",
      "isBS_big supS\n",
      "isBS_big supB\n",
      "isBS_big midBS\n",
      "isBS_big supS\n",
      "isBS_big supS\n",
      "isBS_big supS\n",
      "isBS_big supB\n",
      "isBS_big supS\n",
      "isBS_big midBS\n",
      "isBS_big supS\n",
      "isBS_big midBS\n",
      "isBS_big midBS\n",
      "isBS_big midBS\n",
      "isoversize50 up50\n",
      "isBS_big midBS\n",
      "isBS_big supS\n",
      "isBS_big midBS\n",
      "isoversize50 up50\n",
      "isBS_big midBS\n",
      "isoversize50 down50\n",
      "isoversize50 up50\n",
      "isoversize50 up50\n",
      "isoversize50 up50\n",
      "isoversize50 up50\n",
      "isoversize50 down50\n",
      "isoversize25 up25\n",
      "isoversize50 up50\n",
      "isoversize50 down50\n",
      "isoversize25 down25\n",
      "isoversize50 down50\n",
      "isoversize50 up50\n",
      "isoversize50 down50\n",
      "isoversize25 up25\n",
      "isoversize50 down50\n",
      "isoversize50 down50\n",
      "isoversize25 down25\n",
      "isoversize25 up25\n",
      "isoversize75 up75\n",
      "isoversize25 up25\n",
      "isoversize25 up25\n",
      "isoversize25 up25\n",
      "isoversize50 down50\n",
      "isoversize25 up25\n",
      "isoversize25 down25\n",
      "isoversize25 down25\n",
      "isoversize75 down75\n",
      "isoversize25 down25\n",
      "isoversize75 up75\n",
      "isoversize25 down25\n",
      "isoversize25 down25\n",
      "isoversize25 up25\n",
      "isoversize75 up75\n",
      "isoversize75 up75\n",
      "isoversize75 down75\n",
      "isoversize75 up75\n",
      "isoversize75 up75\n",
      "isoversize25 down25\n",
      "isoversize75 up75\n",
      "isoversize75 down75\n",
      "isoversize75 down75\n",
      "isoversize75 down75\n",
      "isoversize75 down75\n",
      "isoversize75 up75\n",
      "isoversize75 down75\n"
     ]
    },
    {
     "name": "stderr",
     "output_type": "stream",
     "text": [
      "\r",
      "  1%|          | 1/112 [05:35<10:21:01, 335.69s/it]"
     ]
    },
    {
     "name": "stdout",
     "output_type": "stream",
     "text": [
      "isBS B\n",
      "isoversize75 down75\n",
      "isBS B\n",
      "isBS S\n"
     ]
    },
    {
     "name": "stderr",
     "output_type": "stream",
     "text": [
      "\r",
      "  3%|▎         | 3/112 [06:24<3:10:50, 105.05s/it] "
     ]
    },
    {
     "name": "stdout",
     "output_type": "stream",
     "text": [
      "isBS S\n",
      "isBS B\n",
      "isBS_big supB\n",
      "isBS B\n",
      "isBS_big supB\n",
      "isBS_big supS\n",
      "isBS S\n",
      "isBS B\n",
      "isBS B\n",
      "isBS B\n",
      "isBS_big supS\n",
      "isBS_big midBS\n",
      "isBS_big supB\n",
      "isBS S\n",
      "isBS S\n",
      "isBS_big midBS\n",
      "isBS S\n",
      "isBS_big supS\n",
      "isBS B\n",
      "isBS S\n",
      "isBS_big supB\n",
      "isBS_big midBS\n",
      "isBS_big supB\n",
      "isoversize50 up50\n",
      "isBS_big supB\n",
      "isBS S\n",
      "isoversize50 up50\n",
      "isBS_big supS\n",
      "isBS_big supS\n",
      "isBS_big supB\n",
      "isoversize50 up50\n",
      "isBS_big supS\n",
      "isBS_big supB\n",
      "isBS_big midBS\n",
      "isoversize50 down50\n",
      "isoversize50 down50\n",
      "isBS_big midBS\n",
      "isBS_big supS\n",
      "isBS_big midBS\n",
      "isBS_big supS\n",
      "isoversize50 down50\n",
      "isoversize50 up50\n",
      "isoversize25 up25\n",
      "isBS_big midBS\n",
      "isoversize25 up25\n",
      "isoversize25 up25\n",
      "isBS_big midBS\n",
      "isoversize25 down25\n",
      "isoversize50 up50\n",
      "isoversize50 down50\n",
      "isoversize50 up50\n",
      "isoversize25 down25\n",
      "isoversize25 down25\n",
      "isoversize50 up50\n",
      "isoversize25 up25\n",
      "isoversize50 down50\n",
      "isoversize75 up75\n",
      "isoversize50 up50\n",
      "isoversize50 down50\n",
      "isoversize75 up75\n",
      "isoversize25 down25\n",
      "isoversize50 down50\n",
      "isoversize75 up75\n",
      "isoversize25 up25\n",
      "isoversize75 down75\n",
      "isoversize25 up25\n",
      "isoversize75 down75\n",
      "isoversize50 down50\n",
      "isoversize75 up75\n",
      "isoversize25 down25\n",
      "isoversize25 up25\n",
      "isoversize25 down25\n",
      "isoversize75 down75\n",
      "isoversize75 down75\n",
      "isoversize75 up75\n",
      "isoversize25 up25\n",
      "isoversize25 down25\n"
     ]
    },
    {
     "name": "stderr",
     "output_type": "stream",
     "text": [
      "\r",
      "  8%|▊         | 9/112 [10:40<1:38:55, 57.63s/it] "
     ]
    },
    {
     "name": "stdout",
     "output_type": "stream",
     "text": [
      "isoversize75 down75\n",
      "isoversize75 up75\n",
      "isoversize25 down25\n",
      "isoversize75 up75\n",
      "isBS B\n",
      "isoversize75 down75\n",
      "isBS B\n",
      "isoversize75 up75\n",
      "isBS S\n",
      "isBS S\n",
      "isBS B\n",
      "isoversize75 down75\n",
      "isBS_big supB\n",
      "isBS B\n",
      "isBS_big supB\n",
      "isBS_big supS\n",
      "isBS S\n",
      "isoversize75 down75\n"
     ]
    },
    {
     "name": "stderr",
     "output_type": "stream",
     "text": [
      "\r",
      " 10%|▉         | 11/112 [12:14<1:32:08, 54.74s/it]"
     ]
    },
    {
     "name": "stdout",
     "output_type": "stream",
     "text": [
      "isBS B\n",
      "isBS_big supS\n",
      "isBS_big midBS\n",
      "isBS S\n",
      "isBS_big midBS\n",
      "isBS_big supB\n",
      "isBS S\n"
     ]
    },
    {
     "name": "stderr",
     "output_type": "stream",
     "text": [
      "\r",
      " 12%|█▏        | 13/112 [12:36<1:10:28, 42.71s/it]"
     ]
    },
    {
     "name": "stdout",
     "output_type": "stream",
     "text": [
      "isoversize50 up50\n",
      "isBS_big supS\n",
      "isBS B\n",
      "isBS_big supB\n",
      "isBS_big supB\n",
      "isoversize50 up50\n",
      "isBS_big midBS\n",
      "isoversize50 down50\n",
      "isBS_big supS\n",
      "isBS S\n",
      "isBS B\n",
      "isBS_big supS\n",
      "isoversize50 down50\n",
      "isoversize25 up25\n",
      "isBS_big midBS\n",
      "isoversize50 up50\n",
      "isBS_big supB\n",
      "isoversize25 down25\n",
      "isBS S\n",
      "isBS_big midBS\n",
      "isoversize25 up25\n",
      "isBS B\n",
      "isoversize50 down50\n",
      "isBS_big supS\n",
      "isoversize50 up50\n",
      "isoversize75 up75\n",
      "isoversize25 down25\n",
      "isBS_big supB\n",
      "isBS S\n",
      "isBS_big midBS\n",
      "isoversize50 up50\n",
      "isoversize25 up25\n",
      "isBS_big supS\n",
      "isoversize50 down50\n",
      "isoversize75 down75\n",
      "isBS_big supB\n",
      "isoversize75 up75\n",
      "isoversize25 down25\n",
      "isBS_big midBS\n",
      "isoversize50 up50\n",
      "isoversize25 up25\n",
      "isoversize50 down50\n",
      "isBS_big supS\n",
      "isoversize75 down75\n",
      "isoversize75 up75\n",
      "isBS_big midBS\n",
      "isoversize50 up50\n",
      "isoversize25 down25\n",
      "isoversize50 down50\n",
      "isoversize25 up25\n"
     ]
    },
    {
     "name": "stderr",
     "output_type": "stream",
     "text": [
      "\r",
      " 15%|█▌        | 17/112 [15:21<1:06:44, 42.15s/it]"
     ]
    },
    {
     "name": "stdout",
     "output_type": "stream",
     "text": [
      "isoversize50 down50\n",
      "isoversize75 down75\n",
      "isoversize50 up50\n",
      "isoversize25 up25\n",
      "isoversize75 up75\n",
      "isoversize25 down25\n",
      "isoversize25 up25\n",
      "isoversize25 down25\n",
      "isBS B\n",
      "isoversize50 down50\n",
      "isoversize75 down75\n",
      "isoversize25 down25\n",
      "isoversize75 up75\n",
      "isBS S\n",
      "isoversize25 up25\n",
      "isBS B\n",
      "isoversize75 up75\n",
      "isoversize75 up75\n",
      "isoversize25 down25\n",
      "isBS S\n",
      "isBS_big supB\n",
      "isoversize75 down75\n",
      "isBS_big supS\n",
      "isBS B\n",
      "isBS_big supB\n",
      "isoversize75 down75\n",
      "isoversize75 down75\n",
      "isoversize75 up75\n",
      "isBS_big midBS\n",
      "isBS_big supS\n",
      "isBS S\n"
     ]
    },
    {
     "name": "stderr",
     "output_type": "stream",
     "text": [
      "\r",
      " 17%|█▋        | 19/112 [17:27<1:12:59, 47.09s/it]"
     ]
    },
    {
     "name": "stdout",
     "output_type": "stream",
     "text": [
      "isBS_big midBS\n",
      "isBS B\n",
      "isoversize75 down75\n",
      "isBS_big supB\n",
      "isoversize50 up50\n",
      "isoversize50 up50\n",
      "isBS_big supS\n",
      "isBS S\n"
     ]
    },
    {
     "name": "stderr",
     "output_type": "stream",
     "text": [
      "\r",
      " 21%|██▏       | 24/112 [18:00<41:41, 28.42s/it]  "
     ]
    },
    {
     "name": "stdout",
     "output_type": "stream",
     "text": [
      "isoversize50 down50\n",
      "isBS_big midBS\n",
      "isoversize50 down50\n",
      "isBS_big supB\n",
      "isBS B\n",
      "isoversize25 up25\n",
      "isBS B\n",
      "isBS_big supS\n",
      "isoversize25 up25\n",
      "isoversize50 up50\n",
      "isBS B\n",
      "isBS S\n",
      "isoversize25 down25\n",
      "isBS_big midBS\n",
      "isoversize25 down25\n",
      "isBS S\n",
      "isoversize50 down50\n",
      "isBS_big supB\n",
      "isBS S\n",
      "isBS_big supB\n",
      "isoversize75 up75\n",
      "isoversize75 up75\n",
      "isBS_big supS\n",
      "isBS B\n",
      "isoversize50 up50\n",
      "isoversize25 up25\n",
      "isBS_big supS\n",
      "isBS_big supB\n",
      "isBS_big midBS\n",
      "isoversize75 down75\n",
      "isBS_big midBS\n",
      "isoversize25 down25\n",
      "isoversize75 down75\n",
      "isoversize50 down50\n",
      "isBS S\n",
      "isBS_big supS\n",
      "isoversize50 up50\n"
     ]
    },
    {
     "name": "stderr",
     "output_type": "stream",
     "text": [
      "\r",
      " 22%|██▏       | 25/112 [20:05<57:31, 39.68s/it]"
     ]
    },
    {
     "name": "stdout",
     "output_type": "stream",
     "text": [
      "isBS_big midBS\n",
      "isoversize50 up50\n",
      "isoversize75 up75\n",
      "isoversize25 up25\n",
      "isBS_big supB\n",
      "isoversize50 down50\n",
      "isoversize25 down25\n",
      "isoversize50 down50\n",
      "isoversize75 down75\n",
      "isBS_big supS\n",
      "isoversize50 up50\n",
      "isoversize25 up25\n",
      "isoversize25 up25\n"
     ]
    },
    {
     "name": "stderr",
     "output_type": "stream",
     "text": [
      "\r",
      " 24%|██▍       | 27/112 [20:51<50:19, 35.52s/it]"
     ]
    },
    {
     "name": "stdout",
     "output_type": "stream",
     "text": [
      "isBS_big midBS\n",
      "isoversize75 up75\n",
      "isBS B\n",
      "isoversize25 down25\n",
      "isoversize25 down25\n",
      "isoversize50 down50\n",
      "isBS B\n",
      "isBS S\n",
      "isoversize75 down75\n",
      "isoversize75 up75\n",
      "isoversize75 up75\n",
      "isoversize50 up50\n",
      "isBS S\n",
      "isoversize25 up25\n",
      "isBS_big supB\n"
     ]
    },
    {
     "name": "stderr",
     "output_type": "stream",
     "text": [
      "\r",
      " 25%|██▌       | 28/112 [21:44<53:30, 38.22s/it]"
     ]
    },
    {
     "name": "stdout",
     "output_type": "stream",
     "text": [
      "isBS_big supS\n",
      "isoversize75 down75\n",
      "isBS_big supB\n",
      "isoversize75 down75\n",
      "isoversize25 down25\n",
      "isoversize50 down50\n",
      "isBS_big midBS\n",
      "isBS_big supS\n"
     ]
    },
    {
     "name": "stderr",
     "output_type": "stream",
     "text": [
      "\r",
      " 26%|██▌       | 29/112 [22:10<49:50, 36.03s/it]"
     ]
    },
    {
     "name": "stdout",
     "output_type": "stream",
     "text": [
      "isBS B\n",
      "isBS_big midBS\n",
      "isoversize25 up25\n",
      "isoversize75 up75\n",
      "isoversize50 up50\n",
      "isBS S\n",
      "isBS B\n",
      "isoversize25 down25\n",
      "isoversize50 down50\n",
      "isoversize50 up50\n",
      "isoversize75 down75\n",
      "isBS S\n",
      "isBS_big supB\n",
      "isoversize25 up25\n",
      "isoversize50 down50\n",
      "isBS B\n"
     ]
    },
    {
     "name": "stderr",
     "output_type": "stream",
     "text": [
      "\r",
      " 27%|██▋       | 30/112 [23:23<59:21, 43.44s/it]"
     ]
    },
    {
     "name": "stdout",
     "output_type": "stream",
     "text": [
      "isBS_big supS\n",
      "isBS_big supB\n",
      "isoversize25 down25\n",
      "isoversize75 up75\n",
      "isBS B\n",
      "isoversize25 up25\n",
      "isBS S\n",
      "isBS_big supS\n",
      "isBS_big midBS\n",
      "isoversize75 up75\n",
      "isBS_big midBS\n",
      "isoversize25 down25\n",
      "isBS S\n",
      "isBS_big supB\n",
      "isoversize75 down75\n",
      "isBS_big supS\n",
      "isoversize75 down75\n",
      "isoversize50 up50\n",
      "isoversize50 up50\n",
      "isBS_big supB\n",
      "isoversize75 up75\n",
      "isBS_big midBS\n"
     ]
    },
    {
     "name": "stderr",
     "output_type": "stream",
     "text": [
      " 29%|██▉       | 33/112 [24:34<42:40, 32.41s/it]"
     ]
    },
    {
     "name": "stdout",
     "output_type": "stream",
     "text": [
      "isBS_big supS\n",
      "isoversize50 down50\n",
      "isBS B\n",
      "isoversize50 down50\n",
      "isoversize75 down75\n",
      "isoversize50 up50\n",
      "isBS_big midBS\n",
      "isoversize25 up25\n"
     ]
    },
    {
     "name": "stderr",
     "output_type": "stream",
     "text": [
      "\r",
      " 30%|███       | 34/112 [25:06<42:12, 32.47s/it]"
     ]
    },
    {
     "name": "stdout",
     "output_type": "stream",
     "text": [
      "isBS S\n",
      "isoversize50 down50\n",
      "isoversize25 up25\n",
      "isoversize25 down25\n",
      "isoversize50 up50\n",
      "isoversize25 up25\n",
      "isoversize25 down25\n",
      "isBS B\n",
      "isoversize75 up75\n",
      "isBS B\n",
      "isBS_big supB\n",
      "isoversize25 down25\n",
      "isBS S\n",
      "isoversize50 down50\n",
      "isBS_big supS\n",
      "isBS S\n",
      "isoversize75 down75\n",
      "isBS_big supB\n",
      "isoversize75 up75\n",
      "isoversize75 up75\n",
      "isBS B\n",
      "isBS_big midBS\n",
      "isoversize25 up25\n",
      "isBS_big supS\n",
      "isBS_big supB\n",
      "isBS_big midBS\n",
      "isBS_big supS\n",
      "isoversize25 down25\n",
      "isoversize75 down75\n",
      "isBS S\n",
      "isoversize75 down75\n",
      "isoversize50 up50\n",
      "isBS_big midBS\n",
      "isoversize50 up50\n",
      "isBS_big supB\n"
     ]
    },
    {
     "name": "stderr",
     "output_type": "stream",
     "text": [
      "\r",
      " 31%|███▏      | 35/112 [27:11<1:10:51, 55.22s/it]"
     ]
    },
    {
     "name": "stdout",
     "output_type": "stream",
     "text": [
      "isoversize75 up75\n",
      "isoversize50 down50\n",
      "isBS_big supS\n",
      "isoversize50 down50\n",
      "isoversize50 up50\n",
      "isBS B\n",
      "isBS_big midBS\n",
      "isoversize25 up25\n",
      "isoversize75 down75\n",
      "isoversize25 up25\n",
      "isoversize50 down50\n",
      "isoversize25 down25\n",
      "isBS S\n",
      "isBS B\n"
     ]
    },
    {
     "name": "stderr",
     "output_type": "stream",
     "text": [
      "\r",
      " 34%|███▍      | 38/112 [28:13<46:08, 37.42s/it]  "
     ]
    },
    {
     "name": "stdout",
     "output_type": "stream",
     "text": [
      "isoversize50 up50\n",
      "isoversize25 down25\n",
      "isBS B\n",
      "isoversize75 up75\n",
      "isBS_big supB\n",
      "isoversize25 up25\n",
      "isBS S\n",
      "isBS S\n",
      "isoversize50 down50\n",
      "isBS_big supS\n",
      "isoversize25 down25\n",
      "isBS_big supB\n",
      "isoversize75 down75\n",
      "isBS_big supB\n",
      "isoversize75 up75\n",
      "isBS_big midBS\n",
      "isBS_big supS\n",
      "isoversize25 up25\n",
      "isBS_big supS\n",
      "isBS_big midBS\n",
      "isoversize75 up75\n",
      "isBS_big midBS\n",
      "isBS B\n",
      "isoversize25 down25\n",
      "isoversize50 up50\n",
      "isoversize75 down75\n",
      "isBS S\n",
      "isoversize50 up50\n",
      "isoversize50 up50\n",
      "isoversize75 down75\n"
     ]
    },
    {
     "name": "stderr",
     "output_type": "stream",
     "text": [
      "\r",
      " 35%|███▍      | 39/112 [29:55<1:00:53, 50.05s/it]"
     ]
    },
    {
     "name": "stdout",
     "output_type": "stream",
     "text": [
      "isoversize75 up75\n",
      "isoversize50 down50\n",
      "isBS_big supB\n",
      "isoversize50 down50\n",
      "isoversize50 down50\n",
      "isBS B\n"
     ]
    },
    {
     "name": "stderr",
     "output_type": "stream",
     "text": [
      "\r",
      " 36%|███▌      | 40/112 [30:08<50:22, 41.97s/it]  "
     ]
    },
    {
     "name": "stdout",
     "output_type": "stream",
     "text": [
      "isBS_big supS\n",
      "isoversize25 up25\n",
      "isoversize25 up25\n",
      "isBS S\n",
      "isoversize25 up25\n",
      "isoversize75 down75\n",
      "isBS_big midBS\n",
      "isoversize25 down25\n",
      "isBS_big supB\n",
      "isoversize25 down25\n",
      "isoversize25 down25\n"
     ]
    },
    {
     "name": "stderr",
     "output_type": "stream",
     "text": [
      "\r",
      " 38%|███▊      | 42/112 [30:44<38:18, 32.84s/it]"
     ]
    },
    {
     "name": "stdout",
     "output_type": "stream",
     "text": [
      "isBS_big supS\n",
      "isoversize50 up50\n",
      "isoversize75 up75\n",
      "isoversize75 up75\n",
      "isBS B\n",
      "isBS B\n",
      "isBS_big midBS\n",
      "isoversize75 up75\n",
      "isoversize50 down50\n",
      "isBS S\n",
      "isoversize75 down75\n",
      "isBS S\n",
      "isoversize75 down75\n",
      "isoversize50 up50\n",
      "isoversize25 up25\n",
      "isBS_big supB\n",
      "isoversize75 down75\n",
      "isoversize50 down50\n",
      "isBS_big supB\n",
      "isBS_big supS\n",
      "isoversize25 down25\n",
      "isBS B\n"
     ]
    },
    {
     "name": "stderr",
     "output_type": "stream",
     "text": [
      "\r",
      " 38%|███▊      | 43/112 [32:00<48:20, 42.04s/it]"
     ]
    },
    {
     "name": "stdout",
     "output_type": "stream",
     "text": [
      "isBS_big supS\n",
      "isoversize25 up25\n",
      "isBS_big midBS\n",
      "isBS_big midBS\n",
      "isoversize75 up75\n",
      "isBS S\n",
      "isoversize25 down25\n",
      "isoversize50 up50\n",
      "isoversize75 up75\n",
      "isoversize75 down75\n",
      "isBS_big supB\n",
      "isBS B\n",
      "isoversize50 down50\n",
      "isoversize50 up50\n",
      "isBS B\n",
      "isBS_big supS\n"
     ]
    },
    {
     "name": "stderr",
     "output_type": "stream",
     "text": [
      "\r",
      " 41%|████      | 46/112 [32:59<34:22, 31.26s/it]"
     ]
    },
    {
     "name": "stdout",
     "output_type": "stream",
     "text": [
      "isBS S\n",
      "isoversize75 down75\n",
      "isoversize25 up25\n",
      "isBS B\n",
      "isoversize50 down50\n",
      "isBS_big midBS\n",
      "isBS S\n"
     ]
    },
    {
     "name": "stderr",
     "output_type": "stream",
     "text": [
      "\r",
      " 42%|████▏     | 47/112 [33:16<31:00, 28.62s/it]"
     ]
    },
    {
     "name": "stdout",
     "output_type": "stream",
     "text": [
      "isoversize25 down25\n",
      "isBS_big supB\n",
      "isBS S\n",
      "isBS_big supS\n",
      "isoversize25 up25\n",
      "isoversize75 up75\n",
      "isBS_big supB\n",
      "isoversize50 up50\n",
      "isBS_big midBS\n",
      "isBS_big supB\n",
      "isBS_big supS\n",
      "isoversize25 down25\n",
      "isoversize75 down75\n",
      "isBS_big supS\n",
      "isBS B\n",
      "isBS_big midBS\n",
      "isoversize50 up50\n",
      "isoversize50 down50\n",
      "isBS_big midBS\n",
      "isBS B\n",
      "isoversize75 up75\n",
      "isBS S\n",
      "isoversize50 down50\n",
      "isoversize25 up25\n",
      "isoversize50 up50\n",
      "isBS_big supB\n",
      "isBS S\n",
      "isoversize50 up50\n",
      "isoversize25 up25\n",
      "isoversize75 down75\n",
      "isoversize25 down25\n",
      "isBS_big supS\n",
      "isoversize25 down25\n",
      "isBS_big supB\n",
      "isoversize50 down50\n",
      "isoversize50 down50\n"
     ]
    },
    {
     "name": "stderr",
     "output_type": "stream",
     "text": [
      "\r",
      " 43%|████▎     | 48/112 [35:17<51:20, 48.13s/it]"
     ]
    },
    {
     "name": "stdout",
     "output_type": "stream",
     "text": [
      "isBS_big midBS\n",
      "isBS_big supS\n",
      "isoversize75 up75\n",
      "isBS B\n",
      "isoversize75 up75\n",
      "isBS_big midBS\n",
      "isoversize25 up25\n",
      "isoversize25 up25\n",
      "isoversize50 up50\n",
      "isoversize75 down75\n",
      "isoversize25 down25\n",
      "isBS S\n",
      "isoversize25 down25\n",
      "isoversize75 down75\n",
      "isoversize50 down50\n",
      "isoversize50 up50\n"
     ]
    },
    {
     "name": "stderr",
     "output_type": "stream",
     "text": [
      "\r",
      " 45%|████▍     | 50/112 [36:31<45:27, 43.99s/it]"
     ]
    },
    {
     "name": "stdout",
     "output_type": "stream",
     "text": [
      "isBS B\n",
      "isBS_big supB\n",
      "isoversize75 up75\n",
      "isoversize25 up25\n",
      "isoversize50 down50\n",
      "isoversize75 up75\n",
      "isBS_big supS\n",
      "isoversize25 down25\n",
      "isBS S\n",
      "isoversize25 up25\n",
      "isoversize75 down75\n",
      "isBS_big midBS\n",
      "isoversize75 down75\n",
      "isBS_big supB\n",
      "isoversize75 up75\n",
      "isoversize25 down25\n",
      "isBS B\n",
      "isBS_big supS\n"
     ]
    },
    {
     "name": "stderr",
     "output_type": "stream",
     "text": [
      "\r",
      " 46%|████▌     | 51/112 [37:33<48:36, 47.81s/it]"
     ]
    },
    {
     "name": "stdout",
     "output_type": "stream",
     "text": [
      "isoversize50 up50\n",
      "isBS_big midBS\n",
      "isoversize75 down75\n",
      "isBS B\n",
      "isBS S\n",
      "isoversize75 up75\n"
     ]
    },
    {
     "name": "stderr",
     "output_type": "stream",
     "text": [
      "\r",
      " 48%|████▊     | 54/112 [38:06<29:10, 30.18s/it]"
     ]
    },
    {
     "name": "stdout",
     "output_type": "stream",
     "text": [
      "isoversize50 down50\n",
      "isBS_big supB\n",
      "isoversize50 up50\n",
      "isBS S\n",
      "isoversize75 down75\n",
      "isBS_big supS\n",
      "isoversize25 up25\n"
     ]
    },
    {
     "name": "stderr",
     "output_type": "stream",
     "text": [
      "\r",
      " 49%|████▉     | 55/112 [38:38<29:09, 30.69s/it]"
     ]
    },
    {
     "name": "stdout",
     "output_type": "stream",
     "text": [
      "isBS_big midBS\n",
      "isoversize50 down50\n",
      "isBS B\n",
      "isBS_big supB\n",
      "isBS B\n",
      "isoversize25 down25\n",
      "isBS_big supS\n",
      "isoversize25 up25\n",
      "isBS S\n",
      "isoversize50 up50\n",
      "isBS S\n",
      "isBS_big midBS\n",
      "isBS B\n",
      "isoversize25 down25\n",
      "isBS_big supB\n",
      "isoversize75 up75\n",
      "isoversize50 down50\n",
      "isBS_big supB\n",
      "isBS B\n",
      "isBS S\n",
      "isBS_big supS\n",
      "isoversize75 up75\n",
      "isoversize50 up50\n",
      "isBS_big supS\n",
      "isBS_big midBS\n",
      "isoversize25 up25\n",
      "isBS S\n",
      "isBS_big supB\n",
      "isoversize75 down75\n",
      "isBS_big midBS\n",
      "isoversize25 down25\n",
      "isoversize75 down75\n",
      "isBS_big supB\n",
      "isBS_big supS\n",
      "isoversize50 down50\n",
      "isoversize50 up50\n"
     ]
    },
    {
     "name": "stderr",
     "output_type": "stream",
     "text": [
      "\r",
      " 50%|█████     | 56/112 [40:41<46:32, 49.86s/it]"
     ]
    },
    {
     "name": "stdout",
     "output_type": "stream",
     "text": [
      "isBS_big supS\n",
      "isBS_big midBS\n"
     ]
    },
    {
     "name": "stderr",
     "output_type": "stream",
     "text": [
      "\r",
      " 51%|█████     | 57/112 [40:46<36:13, 39.51s/it]"
     ]
    },
    {
     "name": "stdout",
     "output_type": "stream",
     "text": [
      "isoversize75 up75\n",
      "isBS_big midBS\n",
      "isoversize50 up50\n",
      "isoversize25 up25\n",
      "isoversize50 down50\n",
      "isoversize50 up50\n",
      "isoversize50 up50\n",
      "isoversize25 down25\n",
      "isoversize75 down75\n",
      "isoversize25 up25\n",
      "isoversize50 down50\n",
      "isoversize50 down50\n"
     ]
    },
    {
     "name": "stderr",
     "output_type": "stream",
     "text": [
      "\r",
      " 52%|█████▏    | 58/112 [41:43<39:27, 43.84s/it]"
     ]
    },
    {
     "name": "stdout",
     "output_type": "stream",
     "text": [
      "isoversize50 down50\n",
      "isoversize25 down25\n",
      "isBS B\n",
      "isBS B\n",
      "isoversize25 up25\n",
      "isoversize75 up75\n",
      "isoversize25 up25\n",
      "isBS S\n",
      "isoversize25 up25\n",
      "isBS S\n",
      "isoversize75 up75\n",
      "isoversize25 down25\n",
      "isoversize25 down25\n",
      "isBS_big supB\n",
      "isoversize25 down25\n",
      "isBS_big supB\n",
      "isoversize75 down75\n",
      "isBS_big supS\n",
      "isoversize75 down75\n",
      "isoversize75 up75\n",
      "isBS_big supS\n",
      "isBS_big midBS\n",
      "isoversize75 up75\n"
     ]
    },
    {
     "name": "stderr",
     "output_type": "stream",
     "text": [
      "\r",
      " 53%|█████▎    | 59/112 [42:57<45:37, 51.65s/it]"
     ]
    },
    {
     "name": "stdout",
     "output_type": "stream",
     "text": [
      "isBS B\n",
      "isBS_big midBS\n",
      "isoversize75 up75\n",
      "isoversize75 down75\n",
      "isoversize50 up50\n",
      "isBS S\n",
      "isoversize50 up50\n",
      "isoversize75 down75\n",
      "isoversize75 down75\n",
      "isoversize50 down50\n",
      "isoversize50 down50\n"
     ]
    },
    {
     "name": "stderr",
     "output_type": "stream",
     "text": [
      "\r",
      " 54%|█████▎    | 60/112 [43:54<46:11, 53.30s/it]"
     ]
    },
    {
     "name": "stdout",
     "output_type": "stream",
     "text": [
      "isBS_big supB\n",
      "isoversize25 up25\n",
      "isBS B\n",
      "isBS_big supS\n",
      "isoversize25 down25\n",
      "isoversize25 up25\n",
      "isBS B\n",
      "isBS_big midBS\n",
      "isBS B\n",
      "isoversize25 down25\n",
      "isBS S\n",
      "isoversize75 up75\n",
      "isBS S\n",
      "isBS S\n",
      "isBS_big supB\n",
      "isoversize75 up75\n",
      "isoversize75 down75\n",
      "isoversize50 up50\n",
      "isBS_big supB\n",
      "isBS B\n",
      "isBS B\n",
      "isBS_big supS\n",
      "isBS_big supB\n"
     ]
    },
    {
     "name": "stderr",
     "output_type": "stream",
     "text": [
      "\r",
      " 57%|█████▋    | 64/112 [45:17<26:46, 33.48s/it]"
     ]
    },
    {
     "name": "stdout",
     "output_type": "stream",
     "text": [
      "isBS_big supS\n",
      "isoversize75 down75\n",
      "isBS_big midBS\n",
      "isBS_big supS\n",
      "isoversize50 down50\n",
      "isBS S\n",
      "isBS_big midBS\n",
      "isBS S\n"
     ]
    },
    {
     "name": "stderr",
     "output_type": "stream",
     "text": [
      "\r",
      " 58%|█████▊    | 65/112 [45:45<25:28, 32.53s/it]"
     ]
    },
    {
     "name": "stdout",
     "output_type": "stream",
     "text": [
      "isBS_big midBS\n",
      "isoversize25 up25\n",
      "isBS_big supB\n",
      "isoversize50 up50\n",
      "isoversize50 up50\n",
      "isBS_big supB\n",
      "isBS_big supS\n",
      "isBS B\n",
      "isoversize25 down25\n",
      "isBS_big supS\n",
      "isoversize50 up50\n",
      "isoversize50 down50\n",
      "isoversize50 down50\n",
      "isBS_big midBS\n",
      "isBS_big midBS\n",
      "isBS S\n",
      "isBS B\n",
      "isoversize25 up25\n",
      "isoversize50 down50\n",
      "isoversize25 up25\n",
      "isoversize75 up75\n",
      "isBS_big supB\n",
      "isBS S\n",
      "isoversize25 down25\n",
      "isoversize50 up50\n",
      "isoversize25 down25\n",
      "isBS_big supS\n",
      "isoversize50 up50\n",
      "isoversize25 up25\n",
      "isBS_big supB\n",
      "isBS_big midBS\n",
      "isoversize75 up75\n",
      "isoversize75 down75\n",
      "isBS_big supS\n",
      "isoversize25 down25\n",
      "isoversize50 down50\n",
      "isoversize50 down50\n",
      "isoversize75 up75\n",
      "isBS_big midBS\n"
     ]
    },
    {
     "name": "stderr",
     "output_type": "stream",
     "text": [
      "\r",
      " 59%|█████▉    | 66/112 [48:05<41:37, 54.29s/it]"
     ]
    },
    {
     "name": "stdout",
     "output_type": "stream",
     "text": [
      "isoversize50 up50\n",
      "isoversize75 down75\n",
      "isoversize25 up25\n",
      "isoversize50 up50\n",
      "isoversize25 up25\n",
      "isoversize75 up75\n",
      "isoversize75 down75\n",
      "isoversize50 down50\n",
      "isoversize25 down25\n",
      "isoversize50 down50\n",
      "isoversize25 down25\n"
     ]
    },
    {
     "name": "stderr",
     "output_type": "stream",
     "text": [
      "\r",
      " 60%|█████▉    | 67/112 [48:49<38:54, 51.87s/it]"
     ]
    },
    {
     "name": "stdout",
     "output_type": "stream",
     "text": [
      "isoversize25 up25\n",
      "isoversize75 down75\n",
      "isoversize25 up25\n",
      "isoversize25 down25\n",
      "isoversize75 up75\n",
      "isoversize25 down25\n",
      "isoversize75 up75\n"
     ]
    },
    {
     "name": "stderr",
     "output_type": "stream",
     "text": [
      "\r",
      " 61%|██████    | 68/112 [49:20<34:28, 47.01s/it]"
     ]
    },
    {
     "name": "stdout",
     "output_type": "stream",
     "text": [
      "isBS B\n",
      "isoversize75 up75\n",
      "isBS B\n",
      "isoversize75 up75\n",
      "isoversize75 down75\n",
      "isBS S\n",
      "isBS S\n",
      "isoversize75 down75\n",
      "isoversize75 down75\n",
      "isoversize75 down75\n"
     ]
    },
    {
     "name": "stderr",
     "output_type": "stream",
     "text": [
      "\r",
      " 62%|██████▎   | 70/112 [50:04<25:38, 36.63s/it]"
     ]
    },
    {
     "name": "stdout",
     "output_type": "stream",
     "text": [
      "isBS B\n",
      "isBS_big supB\n"
     ]
    },
    {
     "name": "stderr",
     "output_type": "stream",
     "text": [
      " 64%|██████▍   | 72/112 [50:17<15:44, 23.61s/it]"
     ]
    },
    {
     "name": "stdout",
     "output_type": "stream",
     "text": [
      "isBS_big supB\n",
      "isBS_big supS\n",
      "isBS B\n",
      "isBS S\n",
      "isBS_big supS\n",
      "isBS_big midBS\n",
      "isBS_big midBS\n",
      "isBS S\n",
      "isBS_big supB\n",
      "isBS_big supS\n",
      "isBS_big supB\n",
      "isoversize50 up50\n",
      "isBS B\n",
      "isBS B\n",
      "isBS B\n",
      "isBS_big supS\n",
      "isBS_big midBS\n",
      "isBS B\n",
      "isoversize50 up50\n",
      "isoversize50 down50\n",
      "isBS S\n",
      "isBS_big midBS\n",
      "isBS S\n",
      "isBS S\n",
      "isBS S\n",
      "isoversize25 up25\n",
      "isoversize50 down50\n",
      "isBS_big supB\n",
      "isoversize50 up50\n",
      "isBS_big supB\n",
      "isBS_big supB\n",
      "isBS_big supB\n",
      "isoversize50 up50\n",
      "isoversize25 down25\n",
      "isBS_big supS\n",
      "isBS_big supS\n",
      "isBS_big supS\n",
      "isBS_big supS\n",
      "isoversize25 up25\n",
      "isoversize50 down50\n",
      "isBS_big midBS\n",
      "isoversize50 down50\n",
      "isBS_big midBS\n",
      "isBS_big midBS\n",
      "isBS_big midBS\n",
      "isoversize75 up75\n",
      "isoversize25 down25\n",
      "isoversize25 up25\n",
      "isoversize25 up25\n",
      "isoversize50 up50\n",
      "isoversize50 up50\n",
      "isoversize50 up50\n",
      "isoversize75 down75\n",
      "isoversize50 up50\n",
      "isoversize25 down25\n",
      "isoversize25 down25\n",
      "isoversize75 up75\n",
      "isoversize50 down50\n",
      "isoversize50 down50\n",
      "isoversize50 down50\n",
      "isoversize50 down50\n",
      "isoversize75 up75\n",
      "isoversize75 up75\n",
      "isoversize25 up25\n",
      "isoversize25 up25\n",
      "isoversize25 up25\n",
      "isoversize25 up25\n",
      "isoversize75 down75\n",
      "isoversize25 down25\n",
      "isoversize25 down25\n",
      "isoversize75 down75\n",
      "isoversize25 down25\n",
      "isoversize25 down25\n",
      "isoversize75 down75\n"
     ]
    },
    {
     "name": "stderr",
     "output_type": "stream",
     "text": [
      "\r",
      " 66%|██████▌   | 74/112 [54:24<40:58, 64.70s/it]"
     ]
    },
    {
     "name": "stdout",
     "output_type": "stream",
     "text": [
      "isoversize75 up75\n",
      "isoversize75 up75\n",
      "isoversize75 up75\n"
     ]
    },
    {
     "name": "stderr",
     "output_type": "stream",
     "text": [
      "\r",
      " 68%|██████▊   | 76/112 [54:44<26:43, 44.54s/it]"
     ]
    },
    {
     "name": "stdout",
     "output_type": "stream",
     "text": [
      "isoversize75 up75\n",
      "isBS B\n",
      "isoversize75 down75\n",
      "isoversize75 down75\n",
      "isoversize75 down75\n",
      "isBS S\n",
      "isoversize75 down75\n",
      "isBS B\n"
     ]
    },
    {
     "name": "stderr",
     "output_type": "stream",
     "text": [
      "\r",
      " 70%|██████▉   | 78/112 [55:34<21:21, 37.68s/it]"
     ]
    },
    {
     "name": "stdout",
     "output_type": "stream",
     "text": [
      "isBS_big supB\n",
      "isBS B\n",
      "isBS_big supS\n",
      "isBS S\n",
      "isBS B\n",
      "isBS_big midBS\n",
      "isBS S\n",
      "isBS_big supB\n",
      "isBS B\n",
      "isBS B\n",
      "isBS S\n",
      "isBS_big supS\n",
      "isBS S\n",
      "isBS B\n",
      "isBS B\n",
      "isBS S\n",
      "isBS_big supB\n",
      "isBS_big midBS\n",
      "isBS_big supB\n",
      "isoversize50 up50\n",
      "isBS_big supB\n",
      "isBS_big supB\n",
      "isBS S\n",
      "isBS S\n",
      "isBS_big supS\n",
      "isBS_big supS\n",
      "isBS_big supS\n",
      "isBS_big supS\n",
      "isoversize50 down50\n",
      "isoversize50 up50\n",
      "isBS_big midBS\n",
      "isBS_big supB\n",
      "isBS_big midBS\n",
      "isBS_big midBS\n",
      "isBS_big supB\n",
      "isBS_big midBS\n",
      "isBS_big supS\n",
      "isBS_big supS\n",
      "isoversize50 up50\n",
      "isoversize50 down50\n",
      "isoversize25 up25\n",
      "isBS_big midBS\n",
      "isBS_big midBS\n",
      "isoversize50 up50\n",
      "isoversize50 up50\n",
      "isoversize50 up50\n",
      "isoversize50 down50\n",
      "isoversize25 down25\n",
      "isoversize25 up25\n",
      "isoversize50 down50\n",
      "isoversize50 up50\n",
      "isoversize25 up25\n",
      "isoversize50 down50\n",
      "isoversize50 down50\n",
      "isoversize50 up50\n",
      "isoversize25 down25\n",
      "isoversize25 up25\n",
      "isoversize25 down25\n",
      "isoversize50 down50\n",
      "isoversize75 up75\n",
      "isoversize25 down25\n",
      "isoversize50 down50\n",
      "isoversize25 up25\n",
      "isoversize25 up25\n",
      "isoversize75 up75\n",
      "isoversize75 up75\n",
      "isoversize25 up25\n",
      "isoversize75 up75\n",
      "isoversize25 down25\n",
      "isoversize25 down25\n",
      "isoversize25 down25\n",
      "isoversize25 up25\n",
      "isoversize75 down75\n",
      "isoversize75 down75\n",
      "isoversize75 down75\n",
      "isoversize25 down25\n",
      "isoversize75 down75\n"
     ]
    },
    {
     "name": "stderr",
     "output_type": "stream",
     "text": [
      "\r",
      " 73%|███████▎  | 82/112 [59:50<25:26, 50.88s/it]"
     ]
    },
    {
     "name": "stdout",
     "output_type": "stream",
     "text": [
      "isoversize75 up75\n"
     ]
    },
    {
     "name": "stderr",
     "output_type": "stream",
     "text": [
      "\r",
      " 74%|███████▍  | 83/112 [59:58<21:25, 44.32s/it]"
     ]
    },
    {
     "name": "stdout",
     "output_type": "stream",
     "text": [
      "isoversize75 up75\n",
      "isoversize75 up75\n",
      "isoversize75 up75\n",
      "isoversize75 down75\n",
      "isoversize75 down75\n",
      "isoversize75 down75\n",
      "isoversize75 down75\n",
      "isBS B\n",
      "isBS B\n"
     ]
    },
    {
     "name": "stderr",
     "output_type": "stream",
     "text": [
      "\r",
      " 75%|███████▌  | 84/112 [1:01:02<22:20, 47.89s/it]"
     ]
    },
    {
     "name": "stdout",
     "output_type": "stream",
     "text": [
      "isBS B\n",
      "isBS B\n"
     ]
    },
    {
     "name": "stderr",
     "output_type": "stream",
     "text": [
      "\r",
      " 79%|███████▊  | 88/112 [1:01:06<09:43, 24.30s/it]"
     ]
    },
    {
     "name": "stdout",
     "output_type": "stream",
     "text": [
      "isBS S\n",
      "isBS S\n",
      "isBS S\n",
      "isBS S\n",
      "isBS_big supB\n",
      "isBS_big supB\n",
      "isBS_big supB\n",
      "isBS B\n",
      "isBS_big supS\n",
      "isBS_big supS\n",
      "isBS_big supS\n",
      "isBS_big supB\n",
      "isBS_big midBS\n",
      "isBS_big midBS\n",
      "isBS_big midBS\n",
      "isBS B\n",
      "isBS_big supS\n",
      "isBS B\n",
      "isBS S\n",
      "isBS B\n",
      "isBS_big midBS\n",
      "isoversize50 up50\n",
      "isoversize50 up50\n",
      "isBS S\n",
      "isBS S\n",
      "isBS_big supB\n",
      "isoversize50 up50\n",
      "isBS S\n",
      "isoversize50 down50\n",
      "isBS_big supS\n",
      "isoversize50 down50\n",
      "isBS_big supB\n",
      "isBS_big supB\n",
      "isoversize50 up50\n",
      "isoversize50 down50\n",
      "isBS_big midBS\n",
      "isBS_big supS\n",
      "isoversize25 up25\n",
      "isBS_big supS\n",
      "isoversize25 up25\n",
      "isBS_big supB\n",
      "isBS_big midBS\n",
      "isoversize25 down25\n",
      "isBS_big midBS\n",
      "isBS_big supS\n",
      "isoversize25 down25\n",
      "isoversize50 down50\n",
      "isoversize25 up25\n",
      "isoversize50 up50\n",
      "isBS_big midBS\n",
      "isoversize75 up75\n",
      "isoversize25 down25\n",
      "isoversize75 up75\n",
      "isoversize50 up50\n",
      "isoversize25 up25\n",
      "isoversize50 up50\n",
      "isoversize50 down50\n",
      "isoversize75 down75\n",
      "isoversize50 down50\n",
      "isoversize75 down75\n",
      "isoversize25 down25\n",
      "isoversize75 up75\n",
      "isoversize50 up50\n",
      "isoversize50 down50\n",
      "isoversize25 up25\n",
      "isoversize25 up25\n",
      "isoversize50 down50\n",
      "isoversize75 down75\n",
      "isoversize75 up75\n",
      "isoversize25 down25\n",
      "isoversize25 up25\n",
      "isoversize25 down25\n"
     ]
    },
    {
     "name": "stderr",
     "output_type": "stream",
     "text": [
      "\r",
      " 80%|████████  | 90/112 [1:05:06<18:11, 49.62s/it]"
     ]
    },
    {
     "name": "stdout",
     "output_type": "stream",
     "text": [
      "isoversize25 up25\n",
      "isoversize25 down25\n",
      "isoversize75 up75\n",
      "isoversize75 up75\n",
      "isoversize75 down75\n",
      "isBS B\n",
      "isoversize25 down25\n",
      "isBS B\n",
      "isoversize75 up75\n"
     ]
    },
    {
     "name": "stderr",
     "output_type": "stream",
     "text": [
      "\r",
      " 81%|████████▏ | 91/112 [1:05:43<16:39, 47.60s/it]"
     ]
    },
    {
     "name": "stdout",
     "output_type": "stream",
     "text": [
      "isoversize75 down75\n",
      "isBS S\n",
      "isoversize75 down75\n",
      "isBS S\n",
      "isoversize75 up75\n",
      "isBS_big supB\n",
      "isBS B\n",
      "isoversize75 down75\n"
     ]
    },
    {
     "name": "stderr",
     "output_type": "stream",
     "text": [
      "\r",
      " 84%|████████▍ | 94/112 [1:06:12<09:38, 32.16s/it]"
     ]
    },
    {
     "name": "stdout",
     "output_type": "stream",
     "text": [
      "isBS_big supB\n",
      "isBS_big supS\n",
      "isBS S\n",
      "isBS_big supS\n"
     ]
    },
    {
     "name": "stderr",
     "output_type": "stream",
     "text": [
      "\r",
      " 85%|████████▍ | 95/112 [1:06:30<08:27, 29.88s/it]"
     ]
    },
    {
     "name": "stdout",
     "output_type": "stream",
     "text": [
      "isoversize75 down75\n",
      "isBS_big midBS\n",
      "isBS_big midBS\n",
      "isBS_big supB\n"
     ]
    },
    {
     "name": "stderr",
     "output_type": "stream",
     "text": [
      "\r",
      " 87%|████████▋ | 97/112 [1:06:51<05:55, 23.70s/it]"
     ]
    },
    {
     "name": "stdout",
     "output_type": "stream",
     "text": [
      "isBS B\n",
      "isoversize50 up50\n",
      "isBS_big supS\n",
      "isoversize50 up50\n",
      "isBS_big midBS\n",
      "isBS B\n",
      "isBS B\n",
      "isoversize50 down50\n",
      "isBS S\n",
      "isoversize50 down50\n",
      "isBS S\n",
      "isBS B\n",
      "isBS S\n",
      "isoversize50 up50\n",
      "isoversize25 up25\n",
      "isBS_big supB\n",
      "isoversize25 up25\n",
      "isBS_big supB\n",
      "isBS S\n",
      "isoversize25 down25\n",
      "isoversize50 down50\n",
      "isBS_big supB\n",
      "isBS_big supS\n",
      "isBS_big supS\n",
      "isoversize25 down25\n",
      "isBS B\n",
      "isBS_big supB\n",
      "isBS_big supS\n",
      "isBS_big midBS\n",
      "isoversize25 up25\n",
      "isBS_big midBS\n",
      "isoversize75 up75\n",
      "isBS_big supS\n",
      "isoversize75 up75\n",
      "isBS_big midBS\n",
      "isBS S\n",
      "isoversize25 down25\n",
      "isBS_big midBS\n",
      "isoversize50 up50\n",
      "isoversize75 down75\n",
      "isoversize50 up50\n",
      "isoversize75 down75\n",
      "isBS_big supB\n",
      "isoversize75 up75\n"
     ]
    },
    {
     "name": "stderr",
     "output_type": "stream",
     "text": [
      "\r",
      " 88%|████████▊ | 98/112 [1:09:00<10:03, 43.12s/it]"
     ]
    },
    {
     "name": "stdout",
     "output_type": "stream",
     "text": [
      "isoversize50 down50\n",
      "isoversize50 up50\n",
      "isoversize50 up50\n"
     ]
    },
    {
     "name": "stderr",
     "output_type": "stream",
     "text": [
      "\r",
      " 88%|████████▊ | 99/112 [1:09:11<07:55, 36.57s/it]"
     ]
    },
    {
     "name": "stdout",
     "output_type": "stream",
     "text": [
      "isBS_big supS\n",
      "isoversize50 down50\n",
      "isoversize75 down75\n",
      "isoversize25 up25\n",
      "isoversize50 down50\n",
      "isBS_big midBS\n",
      "isoversize50 down50\n"
     ]
    },
    {
     "name": "stderr",
     "output_type": "stream",
     "text": [
      "\r",
      " 89%|████████▉ | 100/112 [1:09:38<06:50, 34.22s/it]"
     ]
    },
    {
     "name": "stdout",
     "output_type": "stream",
     "text": [
      "isoversize25 down25\n",
      "isoversize25 up25\n",
      "isoversize25 up25\n",
      "isoversize25 up25\n",
      "isoversize25 down25\n",
      "isoversize50 up50\n",
      "isoversize75 up75\n",
      "isoversize25 down25\n",
      "isoversize25 down25\n",
      "isBS B\n",
      "isBS B\n",
      "isoversize75 up75\n",
      "isoversize75 down75\n",
      "isoversize50 down50\n",
      "isBS S\n",
      "isBS S\n",
      "isoversize75 up75\n",
      "isoversize75 up75\n",
      "isoversize75 down75\n",
      "isBS B\n",
      "isoversize25 up25\n",
      "isBS_big supB\n",
      "isBS_big supB\n",
      "isoversize75 down75\n",
      "isBS_big supS\n",
      "isBS S\n",
      "isoversize75 down75\n",
      "isoversize25 down25\n",
      "isBS_big supS\n",
      "isBS_big midBS\n",
      "isBS_big midBS\n"
     ]
    },
    {
     "name": "stderr",
     "output_type": "stream",
     "text": [
      " 91%|█████████ | 102/112 [1:11:37<06:48, 40.84s/it]"
     ]
    },
    {
     "name": "stdout",
     "output_type": "stream",
     "text": [
      "isBS_big supB\n",
      "isBS B\n",
      "isoversize75 up75\n",
      "isBS_big supS\n",
      "isoversize50 up50\n",
      "isBS S\n",
      "isBS_big midBS\n",
      "isoversize50 up50\n",
      "isoversize50 down50\n",
      "isBS_big supB\n",
      "isBS B\n",
      "isoversize75 down75\n",
      "isBS_big supS\n",
      "isoversize50 down50\n",
      "isBS B\n",
      "isoversize25 up25\n",
      "isoversize50 up50\n"
     ]
    },
    {
     "name": "stderr",
     "output_type": "stream",
     "text": [
      "\r",
      " 94%|█████████▍| 105/112 [1:12:43<03:36, 30.93s/it]"
     ]
    },
    {
     "name": "stdout",
     "output_type": "stream",
     "text": [
      "isBS B\n",
      "isBS S\n",
      "isBS_big midBS\n",
      "isBS S\n",
      "isoversize25 down25\n",
      "isoversize25 up25\n",
      "isBS S\n",
      "isoversize50 down50\n",
      "isBS_big supB\n",
      "isBS_big supB\n",
      "isoversize50 up50\n",
      "isoversize25 down25\n",
      "isoversize75 up75\n",
      "isBS_big supS\n",
      "isBS_big supB\n",
      "isBS_big supS\n",
      "isoversize50 down50\n",
      "isoversize25 up25\n",
      "isBS_big midBS\n",
      "isBS_big supS\n",
      "isBS_big midBS\n",
      "isoversize75 down75\n",
      "isoversize25 up25\n",
      "isBS_big midBS\n",
      "isoversize75 up75\n",
      "isoversize25 down25\n",
      "isoversize50 up50\n",
      "isoversize25 down25\n",
      "isoversize50 up50\n",
      "isoversize50 down50\n",
      "isoversize50 up50\n",
      "isoversize75 up75\n",
      "isoversize75 down75\n",
      "isoversize75 up75\n",
      "isoversize50 down50\n",
      "isoversize25 up25\n"
     ]
    },
    {
     "name": "stderr",
     "output_type": "stream",
     "text": [
      "\r",
      " 95%|█████████▍| 106/112 [1:14:36<04:44, 47.35s/it]"
     ]
    },
    {
     "name": "stdout",
     "output_type": "stream",
     "text": [
      "isoversize50 down50\n",
      "isoversize75 down75\n",
      "isoversize75 down75\n",
      "isoversize25 down25\n",
      "isoversize25 up25\n",
      "isoversize25 up25\n"
     ]
    },
    {
     "name": "stderr",
     "output_type": "stream",
     "text": [
      "\r",
      " 96%|█████████▋| 108/112 [1:14:58<02:17, 34.26s/it]"
     ]
    },
    {
     "name": "stdout",
     "output_type": "stream",
     "text": [
      "isoversize75 up75\n",
      "isoversize25 down25\n",
      "isoversize25 down25\n",
      "isoversize75 down75\n",
      "isoversize75 up75\n",
      "isoversize75 up75\n",
      "isoversize75 down75\n",
      "isoversize75 down75\n"
     ]
    },
    {
     "name": "stderr",
     "output_type": "stream",
     "text": [
      "100%|██████████| 112/112 [1:15:45<00:00, 40.58s/it]\n"
     ]
    }
   ],
   "source": [
    "df_ret = util.gen_data_multi(stock_lst, data_type='train')"
   ]
  },
  {
   "cell_type": "code",
   "execution_count": 6,
   "metadata": {},
   "outputs": [],
   "source": [
    "df_ret.to_csv('../data/20210809_no_encode.csv')"
   ]
  },
  {
   "cell_type": "code",
   "execution_count": 7,
   "metadata": {},
   "outputs": [
    {
     "data": {
      "text/plain": [
       "(428932, 185)"
      ]
     },
     "execution_count": 7,
     "metadata": {},
     "output_type": "execute_result"
    }
   ],
   "source": [
    "df_ret.shape"
   ]
  },
  {
   "cell_type": "code",
   "execution_count": 8,
   "metadata": {},
   "outputs": [],
   "source": [
    "df_label = pd.read_csv('../data/train.csv')"
   ]
  },
  {
   "cell_type": "code",
   "execution_count": 9,
   "metadata": {},
   "outputs": [],
   "source": [
    "df_all = util.gen_data_encoding(df_ret, df_label, data_type = 'train')"
   ]
  },
  {
   "cell_type": "code",
   "execution_count": 60,
   "metadata": {},
   "outputs": [
    {
     "data": {
      "text/plain": [
       "(428932, 64)"
      ]
     },
     "execution_count": 60,
     "metadata": {},
     "output_type": "execute_result"
    }
   ],
   "source": [
    "df_all.shape"
   ]
  },
  {
   "cell_type": "code",
   "execution_count": 62,
   "metadata": {},
   "outputs": [],
   "source": [
    "df_all.to_csv('../data/20210809_encode.csv')"
   ]
  },
  {
   "cell_type": "code",
   "execution_count": null,
   "metadata": {},
   "outputs": [],
   "source": []
  }
 ],
 "metadata": {
  "hide_input": false,
  "kernelspec": {
   "display_name": "Python 3",
   "language": "python",
   "name": "python3"
  },
  "language_info": {
   "codemirror_mode": {
    "name": "ipython",
    "version": 3
   },
   "file_extension": ".py",
   "mimetype": "text/x-python",
   "name": "python",
   "nbconvert_exporter": "python",
   "pygments_lexer": "ipython3",
   "version": "3.6.8"
  },
  "varInspector": {
   "cols": {
    "lenName": 16,
    "lenType": 16,
    "lenVar": 40
   },
   "kernels_config": {
    "python": {
     "delete_cmd_postfix": "",
     "delete_cmd_prefix": "del ",
     "library": "var_list.py",
     "varRefreshCmd": "print(var_dic_list())"
    },
    "r": {
     "delete_cmd_postfix": ") ",
     "delete_cmd_prefix": "rm(",
     "library": "var_list.r",
     "varRefreshCmd": "cat(var_dic_list()) "
    }
   },
   "types_to_exclude": [
    "module",
    "function",
    "builtin_function_or_method",
    "instance",
    "_Feature"
   ],
   "window_display": false
  }
 },
 "nbformat": 4,
 "nbformat_minor": 2
}
