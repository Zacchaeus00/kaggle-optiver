{
 "cells": [
  {
   "cell_type": "code",
   "execution_count": null,
   "metadata": {},
   "outputs": [],
   "source": [
    "import os\n",
    "import pandas as pd\n",
    "import numpy as np\n",
    "from tqdm import tqdm \n",
    "from glob import glob\n",
    "from imp import reload\n",
    "import warnings\n",
    "from utils import util\n",
    "reload(util)\n",
    "warnings.filterwarnings('ignore')"
   ]
  },
  {
   "cell_type": "code",
   "execution_count": 51,
   "metadata": {},
   "outputs": [],
   "source": [
    "path_lst = glob('../data/book_train.parquet/*')\n",
    "stock_lst = [os.path.basename(path).split('=')[-1] for path in path_lst]"
   ]
  },
  {
   "cell_type": "code",
   "execution_count": 52,
   "metadata": {},
   "outputs": [
    {
     "name": "stderr",
     "output_type": "stream",
     "text": [
      "100%|██████████| 112/112 [10:12<00:00,  5.47s/it]\n"
     ]
    }
   ],
   "source": [
    "df_ret = util.gen_data_multi(stock_lst, data_type='train')"
   ]
  },
  {
   "cell_type": "code",
   "execution_count": 56,
   "metadata": {},
   "outputs": [],
   "source": [
    "df_label = pd.read_csv('../data/train.csv')"
   ]
  },
  {
   "cell_type": "code",
   "execution_count": 59,
   "metadata": {},
   "outputs": [],
   "source": [
    "df_all = util.gen_data_encoding(df_ret, df_label, data_type = 'train')"
   ]
  },
  {
   "cell_type": "code",
   "execution_count": 60,
   "metadata": {},
   "outputs": [
    {
     "data": {
      "text/plain": [
       "(428932, 64)"
      ]
     },
     "execution_count": 60,
     "metadata": {},
     "output_type": "execute_result"
    }
   ],
   "source": [
    "df_all.shape"
   ]
  },
  {
   "cell_type": "code",
   "execution_count": 62,
   "metadata": {},
   "outputs": [],
   "source": [
    "df_all.to_csv('../data/20210805.csv')"
   ]
  },
  {
   "cell_type": "code",
   "execution_count": 17,
   "metadata": {},
   "outputs": [
    {
     "name": "stdout",
     "output_type": "stream",
     "text": [
      "time_id\n",
      "Bnum\n",
      "waproll_std5_B_mean\n",
      "waproll_std5_B_std\n",
      "waproll_std5_B_skew\n",
      "waproll_std5_B_autocorr\n",
      "waproll_std10_B_mean\n",
      "waproll_std10_B_std\n",
      "waproll_std10_B_skew\n",
      "waproll_std10_B_autocorr\n",
      "wapcandlef1_B\n",
      "wapcandlef2_B\n",
      "wapcandlef3_B\n",
      "wapcandlef41_B\n",
      "wapcandlef42_B\n",
      "Snum\n",
      "waproll_std5_S_mean\n",
      "waproll_std5_S_std\n",
      "waproll_std5_S_skew\n",
      "waproll_std5_S_autocorr\n",
      "waproll_std10_S_mean\n",
      "waproll_std10_S_std\n",
      "waproll_std10_S_skew\n",
      "waproll_std10_S_autocorr\n",
      "wapcandlef1_S\n",
      "wapcandlef2_S\n",
      "wapcandlef3_S\n",
      "wapcandlef41_S\n",
      "wapcandlef42_S\n",
      "supBnum\n",
      "waproll_std5_supB_mean\n",
      "waproll_std5_supB_std\n",
      "waproll_std5_supB_skew\n",
      "waproll_std5_supB_autocorr\n",
      "waproll_std10_supB_mean\n",
      "waproll_std10_supB_std\n",
      "waproll_std10_supB_skew\n",
      "waproll_std10_supB_autocorr\n",
      "wapcandlef1_supB\n",
      "wapcandlef2_supB\n",
      "wapcandlef3_supB\n",
      "wapcandlef41_supB\n",
      "wapcandlef42_supB\n",
      "supSnum\n",
      "waproll_std5_supS_mean\n",
      "waproll_std5_supS_std\n",
      "waproll_std5_supS_skew\n",
      "waproll_std5_supS_autocorr\n",
      "waproll_std10_supS_mean\n",
      "waproll_std10_supS_std\n",
      "waproll_std10_supS_skew\n",
      "waproll_std10_supS_autocorr\n",
      "wapcandlef1_supS\n",
      "wapcandlef2_supS\n",
      "wapcandlef3_supS\n",
      "wapcandlef41_supS\n",
      "wapcandlef42_supS\n",
      "midBSnum\n",
      "waproll_std5_midBS_mean\n",
      "waproll_std5_midBS_std\n",
      "waproll_std5_midBS_skew\n",
      "waproll_std5_midBS_autocorr\n",
      "waproll_std10_midBS_mean\n",
      "waproll_std10_midBS_std\n",
      "waproll_std10_midBS_skew\n",
      "waproll_std10_midBS_autocorr\n",
      "wapcandlef1_midBS\n",
      "wapcandlef2_midBS\n",
      "wapcandlef3_midBS\n",
      "wapcandlef41_midBS\n",
      "wapcandlef42_midBS\n",
      "up50num\n",
      "waproll_std5_up50_mean\n",
      "waproll_std5_up50_std\n",
      "waproll_std5_up50_skew\n",
      "waproll_std5_up50_autocorr\n",
      "waproll_std10_up50_mean\n",
      "waproll_std10_up50_std\n",
      "waproll_std10_up50_skew\n",
      "waproll_std10_up50_autocorr\n",
      "wapcandlef1_up50\n",
      "wapcandlef2_up50\n",
      "wapcandlef3_up50\n",
      "wapcandlef41_up50\n",
      "wapcandlef42_up50\n",
      "down50num\n",
      "waproll_std5_down50_mean\n",
      "waproll_std5_down50_std\n",
      "waproll_std5_down50_skew\n",
      "waproll_std5_down50_autocorr\n",
      "waproll_std10_down50_mean\n",
      "waproll_std10_down50_std\n",
      "waproll_std10_down50_skew\n",
      "waproll_std10_down50_autocorr\n",
      "wapcandlef1_down50\n",
      "wapcandlef2_down50\n",
      "wapcandlef3_down50\n",
      "wapcandlef41_down50\n",
      "wapcandlef42_down50\n",
      "up25num\n",
      "waproll_std5_up25_mean\n",
      "waproll_std5_up25_std\n",
      "waproll_std5_up25_skew\n",
      "waproll_std5_up25_autocorr\n",
      "waproll_std10_up25_mean\n",
      "waproll_std10_up25_std\n",
      "waproll_std10_up25_skew\n",
      "waproll_std10_up25_autocorr\n",
      "wapcandlef1_up25\n",
      "wapcandlef2_up25\n",
      "wapcandlef3_up25\n",
      "wapcandlef41_up25\n",
      "wapcandlef42_up25\n",
      "down25num\n",
      "waproll_std5_down25_mean\n",
      "waproll_std5_down25_std\n",
      "waproll_std5_down25_skew\n",
      "waproll_std5_down25_autocorr\n",
      "waproll_std10_down25_mean\n",
      "waproll_std10_down25_std\n",
      "waproll_std10_down25_skew\n",
      "waproll_std10_down25_autocorr\n",
      "wapcandlef1_down25\n",
      "wapcandlef2_down25\n",
      "wapcandlef3_down25\n",
      "wapcandlef41_down25\n",
      "wapcandlef42_down25\n",
      "up75num\n",
      "waproll_std5_up75_mean\n",
      "waproll_std5_up75_std\n",
      "waproll_std5_up75_skew\n",
      "waproll_std5_up75_autocorr\n",
      "waproll_std10_up75_mean\n",
      "waproll_std10_up75_std\n",
      "waproll_std10_up75_skew\n",
      "waproll_std10_up75_autocorr\n",
      "wapcandlef1_up75\n",
      "wapcandlef2_up75\n",
      "wapcandlef3_up75\n",
      "wapcandlef41_up75\n",
      "wapcandlef42_up75\n",
      "down75num\n",
      "waproll_std5_down75_mean\n",
      "waproll_std5_down75_std\n",
      "waproll_std5_down75_skew\n",
      "waproll_std5_down75_autocorr\n",
      "waproll_std10_down75_mean\n",
      "waproll_std10_down75_std\n",
      "waproll_std10_down75_skew\n",
      "waproll_std10_down75_autocorr\n",
      "wapcandlef1_down75\n",
      "wapcandlef2_down75\n",
      "wapcandlef3_down75\n",
      "wapcandlef41_down75\n",
      "wapcandlef42_down75\n",
      "stock_id\n",
      "book_wap1_lambda_\n",
      "book_wap2_lambda_\n",
      "book_wap_mean_lambda_\n",
      "book_wap_diff_lambda_\n",
      "book_price_spread_lambda_\n",
      "book_bid_spread_lambda_\n",
      "book_ask_spread_lambda_\n",
      "book_total_volume_lambda_\n",
      "book_volume_imbalance_lambda_\n",
      "pricesum\n",
      "pricemean\n",
      "pricestd\n",
      "pricemax\n",
      "pricemin\n",
      "sizesum\n",
      "sizemean\n",
      "sizestd\n",
      "sizemax\n",
      "sizemin\n",
      "order_countsum\n",
      "order_countmean\n",
      "order_countstd\n",
      "order_countmax\n",
      "order_countmin\n",
      "seconds_in_bucketsum\n",
      "seconds_in_bucketmean\n",
      "seconds_in_bucketstd\n",
      "seconds_in_bucketmax\n",
      "seconds_in_bucketmin\n",
      "__book_wap1_lambda_____mean___time\n",
      "__book_wap1_lambda_____std___time\n",
      "__book_wap1_lambda_____max___time\n",
      "__book_wap1_lambda_____min___time\n",
      "__book_wap2_lambda_____mean___time\n",
      "__book_wap2_lambda_____std___time\n",
      "__book_wap2_lambda_____max___time\n",
      "__book_wap2_lambda_____min___time\n",
      "__book_wap_mean_lambda_____mean___time\n",
      "__book_wap_mean_lambda_____std___time\n",
      "__book_wap_mean_lambda_____max___time\n",
      "__book_wap_mean_lambda_____min___time\n",
      "__book_wap_diff_lambda_____mean___time\n",
      "__book_wap_diff_lambda_____std___time\n",
      "__book_wap_diff_lambda_____max___time\n",
      "__book_wap_diff_lambda_____min___time\n",
      "__book_wap1_lambda_____mean___stock\n",
      "__book_wap1_lambda_____std___stock\n",
      "__book_wap1_lambda_____max___stock\n",
      "__book_wap1_lambda_____min___stock\n",
      "__book_wap2_lambda_____mean___stock\n",
      "__book_wap2_lambda_____std___stock\n",
      "__book_wap2_lambda_____max___stock\n",
      "__book_wap2_lambda_____min___stock\n",
      "__book_wap_mean_lambda_____mean___stock\n",
      "__book_wap_mean_lambda_____std___stock\n",
      "__book_wap_mean_lambda_____max___stock\n",
      "__book_wap_mean_lambda_____min___stock\n",
      "__book_wap_diff_lambda_____mean___stock\n",
      "__book_wap_diff_lambda_____std___stock\n",
      "__book_wap_diff_lambda_____max___stock\n",
      "__book_wap_diff_lambda_____min___stock\n",
      "target\n"
     ]
    }
   ],
   "source": [
    "for i in df_all.columns:\n",
    "    print(i)"
   ]
  },
  {
   "cell_type": "code",
   "execution_count": null,
   "metadata": {},
   "outputs": [],
   "source": []
  }
 ],
 "metadata": {
  "hide_input": false,
  "kernelspec": {
   "display_name": "Python 3",
   "language": "python",
   "name": "python3"
  },
  "language_info": {
   "codemirror_mode": {
    "name": "ipython",
    "version": 3
   },
   "file_extension": ".py",
   "mimetype": "text/x-python",
   "name": "python",
   "nbconvert_exporter": "python",
   "pygments_lexer": "ipython3",
   "version": "3.8.3"
  },
  "varInspector": {
   "cols": {
    "lenName": 16,
    "lenType": 16,
    "lenVar": 40
   },
   "kernels_config": {
    "python": {
     "delete_cmd_postfix": "",
     "delete_cmd_prefix": "del ",
     "library": "var_list.py",
     "varRefreshCmd": "print(var_dic_list())"
    },
    "r": {
     "delete_cmd_postfix": ") ",
     "delete_cmd_prefix": "rm(",
     "library": "var_list.r",
     "varRefreshCmd": "cat(var_dic_list()) "
    }
   },
   "types_to_exclude": [
    "module",
    "function",
    "builtin_function_or_method",
    "instance",
    "_Feature"
   ],
   "window_display": false
  }
 },
 "nbformat": 4,
 "nbformat_minor": 4
}
